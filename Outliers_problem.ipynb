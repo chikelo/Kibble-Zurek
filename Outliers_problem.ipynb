{
 "cells": [
  {
   "cell_type": "code",
   "execution_count": 1,
   "metadata": {},
   "outputs": [],
   "source": [
    "#Imports\n",
    "import os \n",
    "\n",
    "import matplotlib as mpl\n",
    "import matplotlib.pyplot as plt\n",
    "import matplotlib.animation as animation\n",
    "\n",
    "import numpy as np\n",
    "import pandas as pd\n",
    "from pandas import DataFrame, Series\n",
    "\n",
    "import pims\n",
    "import trackpy as tp\n",
    "\n",
    "import matplotlib.pyplot as plt\n",
    "import scipy.spatial as spa\n",
    "import scipy.optimize as spo\n",
    "from tqdm import tqdm_notebook\n",
    "\n",
    "import pint\n",
    "\n",
    "import support as sp\n",
    "\n",
    "%matplotlib inline\n",
    "\n",
    "idx = pd.IndexSlice\n",
    "\n",
    "%load_ext autoreload\n",
    "%autoreload 2"
   ]
  },
  {
   "cell_type": "code",
   "execution_count": 2,
   "metadata": {},
   "outputs": [
    {
     "data": {
      "text/html": [
       "<div>\n",
       "<style scoped>\n",
       "    .dataframe tbody tr th:only-of-type {\n",
       "        vertical-align: middle;\n",
       "    }\n",
       "\n",
       "    .dataframe tbody tr th {\n",
       "        vertical-align: top;\n",
       "    }\n",
       "\n",
       "    .dataframe thead th {\n",
       "        text-align: right;\n",
       "    }\n",
       "</style>\n",
       "<table border=\"1\" class=\"dataframe\">\n",
       "  <thead>\n",
       "    <tr style=\"text-align: right;\">\n",
       "      <th></th>\n",
       "      <th></th>\n",
       "      <th>dom</th>\n",
       "      <th>dom_length</th>\n",
       "      <th>r</th>\n",
       "      <th>time</th>\n",
       "      <th>defect_density</th>\n",
       "      <th>vel</th>\n",
       "      <th>inv_time</th>\n",
       "    </tr>\n",
       "    <tr>\n",
       "      <th>test</th>\n",
       "      <th>test_num</th>\n",
       "      <th></th>\n",
       "      <th></th>\n",
       "      <th></th>\n",
       "      <th></th>\n",
       "      <th></th>\n",
       "      <th></th>\n",
       "      <th></th>\n",
       "    </tr>\n",
       "  </thead>\n",
       "  <tbody>\n",
       "    <tr>\n",
       "      <th rowspan=\"5\" valign=\"top\">1.0</th>\n",
       "      <th>0.0</th>\n",
       "      <td>6.0</td>\n",
       "      <td>8.333333</td>\n",
       "      <td>31.204325</td>\n",
       "      <td>30.0</td>\n",
       "      <td>0.12</td>\n",
       "      <td>0.115689</td>\n",
       "      <td>0.033333</td>\n",
       "    </tr>\n",
       "    <tr>\n",
       "      <th>1.0</th>\n",
       "      <td>4.0</td>\n",
       "      <td>12.500000</td>\n",
       "      <td>31.215399</td>\n",
       "      <td>30.0</td>\n",
       "      <td>0.08</td>\n",
       "      <td>0.115320</td>\n",
       "      <td>0.033333</td>\n",
       "    </tr>\n",
       "    <tr>\n",
       "      <th>2.0</th>\n",
       "      <td>4.0</td>\n",
       "      <td>12.500000</td>\n",
       "      <td>31.202786</td>\n",
       "      <td>30.0</td>\n",
       "      <td>0.08</td>\n",
       "      <td>0.115740</td>\n",
       "      <td>0.033333</td>\n",
       "    </tr>\n",
       "    <tr>\n",
       "      <th>3.0</th>\n",
       "      <td>4.0</td>\n",
       "      <td>12.500000</td>\n",
       "      <td>31.223551</td>\n",
       "      <td>30.0</td>\n",
       "      <td>0.08</td>\n",
       "      <td>0.115048</td>\n",
       "      <td>0.033333</td>\n",
       "    </tr>\n",
       "    <tr>\n",
       "      <th>4.0</th>\n",
       "      <td>4.0</td>\n",
       "      <td>12.500000</td>\n",
       "      <td>31.211420</td>\n",
       "      <td>30.0</td>\n",
       "      <td>0.08</td>\n",
       "      <td>0.115453</td>\n",
       "      <td>0.033333</td>\n",
       "    </tr>\n",
       "  </tbody>\n",
       "</table>\n",
       "</div>"
      ],
      "text/plain": [
       "               dom  dom_length          r  time  defect_density       vel  \\\n",
       "test test_num                                                               \n",
       "1.0  0.0       6.0    8.333333  31.204325  30.0            0.12  0.115689   \n",
       "     1.0       4.0   12.500000  31.215399  30.0            0.08  0.115320   \n",
       "     2.0       4.0   12.500000  31.202786  30.0            0.08  0.115740   \n",
       "     3.0       4.0   12.500000  31.223551  30.0            0.08  0.115048   \n",
       "     4.0       4.0   12.500000  31.211420  30.0            0.08  0.115453   \n",
       "\n",
       "               inv_time  \n",
       "test test_num            \n",
       "1.0  0.0       0.033333  \n",
       "     1.0       0.033333  \n",
       "     2.0       0.033333  \n",
       "     3.0       0.033333  \n",
       "     4.0       0.033333  "
      ]
     },
     "execution_count": 2,
     "metadata": {},
     "output_type": "execute_result"
    }
   ],
   "source": [
    "file = \"KZ_data_20190912\"\n",
    "kzd = pd.read_csv(file, sep = \"\\t\", index_col = [0,1])\n",
    "kzd[\"defect_density\"] = kzd.dom/50\n",
    "kzd[\"vel\"] = (-kzd.r+34.675)/kzd.time #34.675 is the initial radius\n",
    "kzd[\"inv_time\"] = 1/kzd.time\n",
    "kzd.head()"
   ]
  },
  {
   "cell_type": "code",
   "execution_count": 10,
   "metadata": {},
   "outputs": [
    {
     "data": {
      "text/plain": [
       "[<matplotlib.lines.Line2D at 0x1d4f1454e10>]"
      ]
     },
     "execution_count": 10,
     "metadata": {},
     "output_type": "execute_result"
    },
    {
     "data": {
      "image/png": "[encoded data removed]",
      "text/plain": [
       "<Figure size 1080x360 with 2 Axes>"
      ]
     },
     "metadata": {
      "needs_background": "light"
     },
     "output_type": "display_data"
    }
   ],
   "source": [
    "fig, ax = plt.subplots(1,2, figsize=(15,5))\n",
    "ax[0].plot(kzd.loc[idx[1,:],\"inv_time\"], kzd.loc[idx[1,:], \"defect_density\"],'o')\n",
    "ax[1].loglog(kzd.loc[idx[1,:],\"inv_time\"], kzd.loc[idx[1,:], \"defect_density\"],'o')"
   ]
  },
  {
   "cell_type": "code",
   "execution_count": 34,
   "metadata": {},
   "outputs": [
    {
     "data": {
      "text/plain": [
       "test  test_num\n",
       "1.0   15.0        0.58\n",
       "      17.0        0.92\n",
       "      18.0        0.92\n",
       "      19.0        0.54\n",
       "      20.0        0.54\n",
       "      26.0        0.54\n",
       "      29.0        0.58\n",
       "      30.0        0.58\n",
       "      31.0        0.58\n",
       "      42.0        0.58\n",
       "      43.0        0.54\n",
       "      55.0        0.54\n",
       "Name: defect_density, dtype: float64"
      ]
     },
     "execution_count": 34,
     "metadata": {},
     "output_type": "execute_result"
    }
   ],
   "source": [
    "kzd.loc[idx[1,:],\"defect_density\"][kzd.loc[idx[1,:], \"defect_density\"]>0.15]"
   ]
  },
  {
   "cell_type": "code",
   "execution_count": 11,
   "metadata": {},
   "outputs": [
    {
     "data": {
      "text/plain": [
       "[<matplotlib.lines.Line2D at 0x1d4f18afd30>]"
      ]
     },
     "execution_count": 11,
     "metadata": {},
     "output_type": "execute_result"
    },
    {
     "data": {
      "image/png": "[encoded data removed]",
      "text/plain": [
       "<Figure size 1080x360 with 2 Axes>"
      ]
     },
     "metadata": {
      "needs_background": "light"
     },
     "output_type": "display_data"
    }
   ],
   "source": [
    "fig, ax = plt.subplots(1,2, figsize=(15,5))\n",
    "ax[0].plot(kzd.loc[idx[7,:],\"inv_time\"], kzd.loc[idx[7,:], \"defect_density\"],'o')\n",
    "ax[1].loglog(kzd.loc[idx[7,:],\"inv_time\"], kzd.loc[idx[7,:], \"defect_density\"],'o')"
   ]
  },
  {
   "cell_type": "code",
   "execution_count": 27,
   "metadata": {},
   "outputs": [
    {
     "data": {
      "text/plain": [
       "48"
      ]
     },
     "execution_count": 27,
     "metadata": {},
     "output_type": "execute_result"
    }
   ],
   "source": [
    "kzd.loc[idx[7,:],\"defect_density\"][kzd.loc[idx[7,:], \"defect_density\"]<0.4].count()"
   ]
  },
  {
   "cell_type": "code",
   "execution_count": 12,
   "metadata": {},
   "outputs": [
    {
     "data": {
      "text/plain": [
       "[<matplotlib.lines.Line2D at 0x1d4f1b23cc0>]"
      ]
     },
     "execution_count": 12,
     "metadata": {},
     "output_type": "execute_result"
    },
    {
     "data": {
      "image/png": "[encoded data removed]",
      "text/plain": [
       "<Figure size 1080x360 with 2 Axes>"
      ]
     },
     "metadata": {
      "needs_background": "light"
     },
     "output_type": "display_data"
    }
   ],
   "source": [
    "fig, ax = plt.subplots(1,2, figsize=(15,5))\n",
    "ax[0].plot(kzd.loc[idx[15,:],\"inv_time\"], kzd.loc[idx[15,:], \"defect_density\"],'o')\n",
    "ax[1].loglog(kzd.loc[idx[15,:],\"inv_time\"], kzd.loc[idx[15,:], \"defect_density\"],'o')"
   ]
  },
  {
   "cell_type": "code",
   "execution_count": 30,
   "metadata": {},
   "outputs": [
    {
     "data": {
      "text/plain": [
       "15"
      ]
     },
     "execution_count": 30,
     "metadata": {},
     "output_type": "execute_result"
    }
   ],
   "source": [
    "kzd.loc[idx[15,:],\"defect_density\"][kzd.loc[idx[15,:], \"defect_density\"]>0.5].count()"
   ]
  }
 ],
 "metadata": {
  "kernelspec": {
   "display_name": "Python 3",
   "language": "python",
   "name": "python3"
  },
  "language_info": {
   "codemirror_mode": {
    "name": "ipython",
    "version": 3
   },
   "file_extension": ".py",
   "mimetype": "text/x-python",
   "name": "python",
   "nbconvert_exporter": "python",
   "pygments_lexer": "ipython3",
   "version": "3.7.3"
  }
 },
 "nbformat": 4,
 "nbformat_minor": 2
}
